{
 "cells": [
  {
   "cell_type": "code",
   "execution_count": 1,
   "id": "d6ad6326-db83-4a7b-82fe-ddd96b9fe57d",
   "metadata": {},
   "outputs": [],
   "source": [
    "import cv2\n",
    "import numpy as np\n",
    "import face_recognition as fr"
   ]
  },
  {
   "cell_type": "code",
   "execution_count": 2,
   "id": "ba5f9e04-0aa5-4e4d-b90f-c6945dd8a9d4",
   "metadata": {},
   "outputs": [],
   "source": [
    "video_capture = cv2.VideoCapture(0)"
   ]
  },
  {
   "cell_type": "code",
   "execution_count": 3,
   "id": "f94413f6-b004-40ce-bdf6-fccd69d638bd",
   "metadata": {},
   "outputs": [],
   "source": [
    "img = fr.load_image_file('C:\\\\Users\\\\dybsb\\\\Pictures\\\\Whatsapp\\\\photo.jpg')"
   ]
  },
  {
   "cell_type": "code",
   "execution_count": 4,
   "id": "8e78a2b0-519d-4122-b415-096ebc58f618",
   "metadata": {},
   "outputs": [],
   "source": [
    "img_face_encoding = fr.face_encodings(img)[0]"
   ]
  },
  {
   "cell_type": "code",
   "execution_count": 5,
   "id": "3ed11cfa-db66-4178-8855-6a9f186603cf",
   "metadata": {},
   "outputs": [],
   "source": [
    "known_face_encodings = [img_face_encoding]"
   ]
  },
  {
   "cell_type": "code",
   "execution_count": 6,
   "id": "b6ba7302-3ae3-409b-9518-aed900c1e015",
   "metadata": {},
   "outputs": [],
   "source": [
    "known_faces_names = [\"Me\"]"
   ]
  },
  {
   "cell_type": "code",
   "execution_count": null,
   "id": "796d2574-7ab5-4014-8b97-723ac11088b1",
   "metadata": {},
   "outputs": [],
   "source": [
    "while True:\n",
    "    ret, frame = video_capture.read()\n",
    "\n",
    "    if not ret:\n",
    "        continue\n",
    "\n",
    "    rgb_frame = cv2.cvtColor(frame, cv2.COLOR_BGR2RGB)  # Use OpenCV to convert BGR to RGB\n",
    "\n",
    "    fc_locations = fr.face_locations(rgb_frame)\n",
    "\n",
    "    if len(fc_locations) > 0:\n",
    "        fc_encodings = fr.face_encodings(rgb_frame, fc_locations)\n",
    "\n",
    "        for (top, right, bottom, left), face_encoding in zip(fc_locations, fc_encodings):\n",
    "            matches = fr.compare_faces(known_face_encodings, face_encoding)\n",
    "            name = \"Unknown\"\n",
    "\n",
    "            fc_distances = fr.face_distance(known_face_encodings, face_encoding)\n",
    "            match_index = np.argmin(fc_distances)\n",
    "\n",
    "            if matches[match_index]:\n",
    "                name = known_faces_names[match_index]\n",
    "\n",
    "            cv2.rectangle(frame, (left, top), (right, bottom), (0, 0, 255), 2)\n",
    "            cv2.rectangle(frame, (left, bottom - 35), (right, bottom), (0, 0, 255), cv2.FILLED)\n",
    "            font = cv2.FONT_HERSHEY_SIMPLEX\n",
    "            cv2.putText(frame, name, (left + 6, bottom - 6), font, 1.0, (255, 255, 255), 1)\n",
    "\n",
    "    cv2.imshow(\"Face Detection\", frame)\n",
    "\n",
    "    if cv2.waitKey(1) & 0xFF == ord('q'):\n",
    "        break\n",
    "\n",
    "video_capture.release()\n",
    "cv2.destroyAllWindows()"
   ]
  },
  {
   "cell_type": "code",
   "execution_count": null,
   "id": "b6fbbbbf-1c17-4131-9082-d60671c7c257",
   "metadata": {},
   "outputs": [],
   "source": []
  }
 ],
 "metadata": {
  "kernelspec": {
   "display_name": "Python 3 (ipykernel)",
   "language": "python",
   "name": "python3"
  },
  "language_info": {
   "codemirror_mode": {
    "name": "ipython",
    "version": 3
   },
   "file_extension": ".py",
   "mimetype": "text/x-python",
   "name": "python",
   "nbconvert_exporter": "python",
   "pygments_lexer": "ipython3",
   "version": "3.11.7"
  }
 },
 "nbformat": 4,
 "nbformat_minor": 5
}
